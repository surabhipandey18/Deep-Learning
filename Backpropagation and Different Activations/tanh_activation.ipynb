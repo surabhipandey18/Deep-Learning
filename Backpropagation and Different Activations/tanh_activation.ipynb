{
 "cells": [
  {
   "cell_type": "code",
   "execution_count": 1,
   "id": "c0daf138",
   "metadata": {},
   "outputs": [],
   "source": [
    "import torch\n",
    "import torch.nn as nn\n",
    "import torch.optim as optim"
   ]
  },
  {
   "cell_type": "code",
   "execution_count": 2,
   "id": "d2c61293",
   "metadata": {},
   "outputs": [],
   "source": [
    "torch.manual_seed(0)\n",
    "\n",
    "x = torch.tensor([[0.6, 0.1]], dtype=torch.float32) #(1, 2) shape\n",
    "y = torch.tensor([0], dtype=torch.long) #target class index 0"
   ]
  },
  {
   "cell_type": "code",
   "execution_count": 3,
   "id": "d0ab6458",
   "metadata": {},
   "outputs": [],
   "source": [
    "#define model\n",
    "class Net(nn.Module):\n",
    "    def __init__(self):\n",
    "        super(Net, self).__init__()\n",
    "        self.hidden = nn.Linear(2, 2)\n",
    "        self.output = nn.Linear(2, 2)\n",
    "\n",
    "    def forward(self, x):\n",
    "        h = torch.tanh(self.hidden(x))\n",
    "        out = self.output(h)\n",
    "        return out\n",
    "\n",
    "model = Net()        \n"
   ]
  },
  {
   "cell_type": "code",
   "execution_count": 4,
   "id": "c5230128",
   "metadata": {},
   "outputs": [],
   "source": [
    "with torch.no_grad():\n",
    "    model.hidden.weight = nn.Parameter(torch.tensor([[0.4, 0.3],[0.2, 0.8]], dtype=torch.float32))\n",
    "    model.hidden.bias = nn.Parameter(torch.tensor([0.0, 0.0], dtype=torch.float32))\n",
    "    model.output.weight = nn.Parameter(torch.tensor([[0.5, 0.7],[0.6, 0.9]], dtype=torch.float32))\n",
    "    model.output.bias = nn.Parameter(torch.tensor([0.0, 0.0], dtype=torch.float32))"
   ]
  },
  {
   "cell_type": "code",
   "execution_count": 5,
   "id": "1bfff7f9",
   "metadata": {},
   "outputs": [],
   "source": [
    "#loss and optimizer\n",
    "criterion = nn.CrossEntropyLoss()\n",
    "optimizer = optim.SGD(model.parameters(), lr=0.1)"
   ]
  },
  {
   "cell_type": "code",
   "execution_count": 6,
   "id": "d27911d1",
   "metadata": {},
   "outputs": [],
   "source": [
    "#forward pass\n",
    "logits = model(x)\n",
    "probs = torch.softmax(logits, dim=1)\n",
    "loss = criterion(logits, y)"
   ]
  },
  {
   "cell_type": "code",
   "execution_count": 7,
   "id": "3521e285",
   "metadata": {},
   "outputs": [
    {
     "name": "stdout",
     "output_type": "stream",
     "text": [
      "Logits: tensor([[0.2700, 0.3358]], grad_fn=<AddmmBackward0>)\n",
      "Probabilities: tensor([[0.4835, 0.5165]], grad_fn=<SoftmaxBackward0>)\n",
      "Loss: 0.7266076803207397\n"
     ]
    }
   ],
   "source": [
    "#let's see outputs of forward pass\n",
    "print(\"Logits:\", logits)\n",
    "print(\"Probabilities:\", probs)\n",
    "print(\"Loss:\", loss.item())"
   ]
  },
  {
   "cell_type": "code",
   "execution_count": 8,
   "id": "a76b8c2b",
   "metadata": {},
   "outputs": [],
   "source": [
    "#backward pass and optimization\n",
    "optimizer.zero_grad()\n",
    "loss.backward()"
   ]
  },
  {
   "cell_type": "code",
   "execution_count": 9,
   "id": "fbf08e16",
   "metadata": {},
   "outputs": [
    {
     "name": "stdout",
     "output_type": "stream",
     "text": [
      "hidden.weight tensor([[0.4000, 0.3000],\n",
      "        [0.2000, 0.8000]]) tensor([[0.0288, 0.0048],\n",
      "        [0.0596, 0.0099]])\n",
      "hidden.bias tensor([0., 0.]) tensor([0.0481, 0.0993])\n",
      "output.weight tensor([[0.5000, 0.7000],\n",
      "        [0.6000, 0.9000]]) tensor([[-0.1361, -0.1019],\n",
      "        [ 0.1361,  0.1019]])\n",
      "output.bias tensor([0., 0.]) tensor([-0.5165,  0.5165])\n"
     ]
    }
   ],
   "source": [
    "for name, param in model.named_parameters():\n",
    "    if param.requires_grad:\n",
    "        print(name, param.data, param.grad)"
   ]
  },
  {
   "cell_type": "code",
   "execution_count": 10,
   "id": "27c10a1e",
   "metadata": {},
   "outputs": [
    {
     "name": "stdout",
     "output_type": "stream",
     "text": [
      "\n",
      "Updated weights after one optimization step:\n",
      "hidden.weight tensor([[0.3971, 0.2995],\n",
      "        [0.1940, 0.7990]])\n",
      "hidden.bias tensor([-0.0048, -0.0099])\n",
      "output.weight tensor([[0.5136, 0.7102],\n",
      "        [0.5864, 0.8898]])\n",
      "output.bias tensor([ 0.0516, -0.0516])\n"
     ]
    }
   ],
   "source": [
    "#output weights\n",
    "optimizer.step()\n",
    "\n",
    "print(\"\\nUpdated weights after one optimization step:\")\n",
    "for name, param in model.named_parameters():\n",
    "    if param.requires_grad:\n",
    "        print(name, param.data)"
   ]
  },
  {
   "cell_type": "code",
   "execution_count": null,
   "id": "1be64178",
   "metadata": {},
   "outputs": [],
   "source": []
  }
 ],
 "metadata": {
  "kernelspec": {
   "display_name": "Python 3",
   "language": "python",
   "name": "python3"
  },
  "language_info": {
   "codemirror_mode": {
    "name": "ipython",
    "version": 3
   },
   "file_extension": ".py",
   "mimetype": "text/x-python",
   "name": "python",
   "nbconvert_exporter": "python",
   "pygments_lexer": "ipython3",
   "version": "3.10.9"
  }
 },
 "nbformat": 4,
 "nbformat_minor": 5
}
