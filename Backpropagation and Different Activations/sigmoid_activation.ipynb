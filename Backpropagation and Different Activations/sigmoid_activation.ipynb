{
 "cells": [
  {
   "cell_type": "code",
   "execution_count": null,
   "id": "0ca5ceec",
   "metadata": {},
   "outputs": [],
   "source": [
    "import torch "
   ]
  },
  {
   "cell_type": "code",
   "execution_count": 16,
   "id": "be1325a9",
   "metadata": {},
   "outputs": [
    {
     "data": {
      "text/plain": [
       "<torch._C.Generator at 0x1c93dd43290>"
      ]
     },
     "execution_count": 16,
     "metadata": {},
     "output_type": "execute_result"
    }
   ],
   "source": [
    "torch.manual_seed(0)"
   ]
  },
  {
   "cell_type": "code",
   "execution_count": 17,
   "id": "f3ca4b04",
   "metadata": {},
   "outputs": [],
   "source": [
    "#make helper functions\n",
    "def sigmoid_activation(x):\n",
    "    return 1/(1+torch.exp(-x))\n",
    "\n",
    "def sigmoid_derivative(a): #used when weight update happens;\n",
    "    return a * (1-a)\n",
    "\n",
    "def softmax(z):\n",
    "    e = torch.exp(z - z.max(dim=1, keepdim=True)[0])\n",
    "    return e/ e.sum(dim=1, keepdim=True)\n",
    "\n",
    "def cross_entropy(y_hat, y_onehot):\n",
    "    return -(y_onehot * torch.log(y_hat + 1e-12)).sum(dim=1).mean()"
   ]
  },
  {
   "cell_type": "code",
   "execution_count": 18,
   "id": "f2ec226d",
   "metadata": {},
   "outputs": [
    {
     "name": "stdout",
     "output_type": "stream",
     "text": [
      "tensor([[0., 1.]])\n"
     ]
    }
   ],
   "source": [
    "#sample dataset\n",
    "x = torch.randn(1, 2) \n",
    "y_idx = torch.tensor([1]) #class label(0,1)\n",
    "y_onehot = torch.zeros(1, 2); #row vector made of zeroes\n",
    "y_onehot[0, y_idx] = 1.0 #turns the above made vector into one-hot\n",
    "print(y_onehot)"
   ]
  },
  {
   "cell_type": "code",
   "execution_count": 19,
   "id": "4b0d0afb",
   "metadata": {},
   "outputs": [],
   "source": [
    "#parameters\n",
    "w1 = torch.randn(2, 2, requires_grad=True)  #2 inputs, 2 neurons in hidden layer\n",
    "b1 = torch.zeros(1, 2, requires_grad=True) #bias for hidden layer\n",
    "w2 = torch.randn(2, 2, requires_grad=True)  #2 neurons in hidden layer, 2 output classes\n",
    "b2 = torch.zeros(1, 2, requires_grad=True) #bias for output lay"
   ]
  },
  {
   "cell_type": "code",
   "execution_count": 20,
   "id": "4c021687",
   "metadata": {},
   "outputs": [],
   "source": [
    "#manual forward propagation\n",
    "z1 = x@w1 + b1 #input to hidden layer\n",
    "a1 = sigmoid_activation(z1) #sigmoid activation for hidden layer\n",
    "z2 = a1@w2 + b2 #input to output layer\n",
    "a2 = softmax(z2) #softmax activation for output layer\n",
    "cross_entropy_loss = cross_entropy(a2, y_onehot) #cross-entropy loss"
   ]
  },
  {
   "cell_type": "code",
   "execution_count": 21,
   "id": "9aeecfb9",
   "metadata": {},
   "outputs": [],
   "source": [
    "#manual backpropagation\n",
    "delta2 = (a2 - y_onehot) #we are getting delta of output layer \n",
    "dw2_manual = delta2.t() @ a1 #weight gradient for hidden to output layer\n",
    "db2 = delta2.sum(dim=0) #bias gradient for b2\n",
    "\n",
    "delta1 = (delta2 @ w2.t()) * sigmoid_derivative(a1) #we are getting delta of hidden layer\n",
    "dw1_manual = x.t() @ delta1 #weight gradient for input to hidden layer\n",
    "db1 = delta1.sum(dim=0) #bias gradient for input to hidden layer"
   ]
  },
  {
   "cell_type": "code",
   "execution_count": 22,
   "id": "c6c6e129",
   "metadata": {},
   "outputs": [],
   "source": [
    "#for comparison, let's use autograd\n",
    "for p in [w1, b1, w2, b2]:\n",
    "    if p.grad is not None:\n",
    "        p.grad.zero_() #zero the gradients"
   ]
  },
  {
   "cell_type": "code",
   "execution_count": 23,
   "id": "cf9e93ed",
   "metadata": {},
   "outputs": [],
   "source": [
    "#forward with autograd\n",
    "z1_g = x@w1 + b1\n",
    "a1_g = torch.sigmoid(z1_g)\n",
    "z2_g = a1_g@w2 + b2\n",
    "a2_g = torch.nn.functional.softmax(z2_g, dim=1)\n",
    "loss_g = -(y_onehot * torch.log(a2_g + 1e-12)).sum(dim=1).mean()"
   ]
  },
  {
   "cell_type": "code",
   "execution_count": 24,
   "id": "52b7e62a",
   "metadata": {},
   "outputs": [],
   "source": [
    "#backward with autograd\n",
    "loss_g.backward(retain_graph=True)"
   ]
  },
  {
   "cell_type": "code",
   "execution_count": 25,
   "id": "86c585c3",
   "metadata": {},
   "outputs": [
    {
     "name": "stdout",
     "output_type": "stream",
     "text": [
      "torch.Size([2, 2]) False\n",
      "torch.Size([1, 2]) False\n",
      "torch.Size([2, 2]) False\n",
      "torch.Size([1, 2]) False\n"
     ]
    }
   ],
   "source": [
    "for p in [w1, b1, w2, b2]:\n",
    "    print(p.shape, p.grad is None)\n"
   ]
  },
  {
   "cell_type": "code",
   "execution_count": 26,
   "id": "df1c2295",
   "metadata": {},
   "outputs": [],
   "source": [
    "#read autograd gradients\n",
    "dw2_autograd = w2.grad.clone()\n",
    "db2_autograd = b2.grad.clone().squeeze()\n",
    "dw1_autograd = w1.grad.clone()\n",
    "db1_autograd = b1.grad.clone().squeeze()"
   ]
  },
  {
   "cell_type": "code",
   "execution_count": 27,
   "id": "8ee01522",
   "metadata": {},
   "outputs": [
    {
     "name": "stdout",
     "output_type": "stream",
     "text": [
      "Loss Manual: 0.568365216255188 Loss Autograd: 0.568365216255188\n",
      "dw2 manual:\n",
      " tensor([[ 0.0198,  0.3397],\n",
      "        [-0.0198, -0.3397]], grad_fn=<MmBackward0>) \n",
      "dw2 autograd:\n",
      " tensor([[ 0.0198, -0.0198],\n",
      "        [ 0.3397, -0.3397]])\n",
      "db2 manual:\n",
      " tensor([ 0.4335, -0.4335], grad_fn=<SumBackward1>) \n",
      "db2 autograd:\n",
      " tensor([ 0.4335, -0.4335])\n",
      "dw1 manual:\n",
      " tensor([[-0.0127, -0.0358],\n",
      "        [ 0.0024,  0.0068]], grad_fn=<MmBackward0>) \n",
      "dw1 autograd:\n",
      " tensor([[-0.0127, -0.0358],\n",
      "        [ 0.0024,  0.0068]])\n",
      "db1 manual:\n",
      " tensor([-0.0082, -0.0232], grad_fn=<SumBackward1>) \n",
      "db1 autograd:\n",
      " tensor([-0.0082, -0.0232])\n"
     ]
    }
   ],
   "source": [
    "#compare\n",
    "print(\"Loss Manual:\", cross_entropy_loss.item(), \"Loss Autograd:\", loss_g.item())\n",
    "print(\"dw2 manual:\\n\", dw2_manual, \"\\ndw2 autograd:\\n\", dw2_autograd)\n",
    "print(\"db2 manual:\\n\", db2, \"\\ndb2 autograd:\\n\", db2_autograd)\n",
    "print(\"dw1 manual:\\n\", dw1_manual, \"\\ndw1 autograd:\\n\", dw1_autograd)\n",
    "print(\"db1 manual:\\n\", db1, \"\\ndb1 autograd:\\n\", db1_autograd)"
   ]
  },
  {
   "cell_type": "code",
   "execution_count": null,
   "id": "da7e72bc",
   "metadata": {},
   "outputs": [],
   "source": []
  }
 ],
 "metadata": {
  "kernelspec": {
   "display_name": "Python 3",
   "language": "python",
   "name": "python3"
  },
  "language_info": {
   "codemirror_mode": {
    "name": "ipython",
    "version": 3
   },
   "file_extension": ".py",
   "mimetype": "text/x-python",
   "name": "python",
   "nbconvert_exporter": "python",
   "pygments_lexer": "ipython3",
   "version": "3.10.9"
  }
 },
 "nbformat": 4,
 "nbformat_minor": 5
}
