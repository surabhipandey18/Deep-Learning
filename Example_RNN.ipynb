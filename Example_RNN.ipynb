{
  "metadata": {
    "kernelspec": {
      "language": "python",
      "display_name": "Python 3",
      "name": "python3"
    },
    "language_info": {
      "name": "python",
      "version": "3.11.13",
      "mimetype": "text/x-python",
      "codemirror_mode": {
        "name": "ipython",
        "version": 3
      },
      "pygments_lexer": "ipython3",
      "nbconvert_exporter": "python",
      "file_extension": ".py"
    },
    "kaggle": {
      "accelerator": "none",
      "dataSources": [],
      "dockerImageVersionId": 31089,
      "isInternetEnabled": true,
      "language": "python",
      "sourceType": "notebook",
      "isGpuEnabled": false
    },
    "colab": {
      "name": "Example_RNN",
      "provenance": [],
      "include_colab_link": true
    }
  },
  "nbformat_minor": 0,
  "nbformat": 4,
  "cells": [
    {
      "cell_type": "markdown",
      "metadata": {
        "id": "view-in-github",
        "colab_type": "text"
      },
      "source": [
        "<a href=\"https://colab.research.google.com/github/surabhipandey18/Deep-Learning/blob/main/Example_RNN.ipynb\" target=\"_parent\"><img src=\"https://colab.research.google.com/assets/colab-badge.svg\" alt=\"Open In Colab\"/></a>"
      ]
    },
    {
      "cell_type": "code",
      "source": [
        "import torch\n",
        "import torch.nn as nn\n",
        "import seaborn as sns\n",
        "import matplotlib.pyplot as plt"
      ],
      "metadata": {
        "_uuid": "8f2839f25d086af736a60e9eeb907d3b93b6e0e5",
        "_cell_guid": "b1076dfc-b9ad-4769-8c92-a6c4dae69d19",
        "trusted": true,
        "execution": {
          "iopub.status.busy": "2025-09-11T06:47:40.511459Z",
          "iopub.execute_input": "2025-09-11T06:47:40.511856Z",
          "iopub.status.idle": "2025-09-11T06:47:40.93589Z",
          "shell.execute_reply.started": "2025-09-11T06:47:40.511831Z",
          "shell.execute_reply": "2025-09-11T06:47:40.934895Z"
        },
        "id": "Z_F0vyqFldsf"
      },
      "outputs": [],
      "execution_count": null
    },
    {
      "cell_type": "code",
      "source": [
        "class SimpleRNNModel(nn.Module):\n",
        "    def __init__(self, input_dim, hidden_dim, output_dim):\n",
        "        super(SimpleRNNModel, self).__init__()\n",
        "        self.rnn = nn.RNN(input_dim, hidden_dim, batch_first=True)\n",
        "        self.fc = nn.Linear(hidden_dim, output_dim)\n",
        "\n",
        "    def forward(self, x):\n",
        "        out, _ = self.rnn(x)\n",
        "        out = self.fc(out[:, -1, :])\n",
        "        return out"
      ],
      "metadata": {
        "trusted": true,
        "execution": {
          "iopub.status.busy": "2025-09-11T06:41:08.278246Z",
          "iopub.execute_input": "2025-09-11T06:41:08.278683Z",
          "iopub.status.idle": "2025-09-11T06:41:08.285387Z",
          "shell.execute_reply.started": "2025-09-11T06:41:08.278656Z",
          "shell.execute_reply": "2025-09-11T06:41:08.284474Z"
        },
        "id": "RdumPA6Dldsg"
      },
      "outputs": [],
      "execution_count": null
    },
    {
      "cell_type": "code",
      "source": [
        "#synthetic data\n",
        "X = torch.randn(100, 10, 8)\n",
        "y = torch.randint(0, 2, (100,))"
      ],
      "metadata": {
        "trusted": true,
        "execution": {
          "iopub.status.busy": "2025-09-11T06:42:17.610301Z",
          "iopub.execute_input": "2025-09-11T06:42:17.610713Z",
          "iopub.status.idle": "2025-09-11T06:42:17.699706Z",
          "shell.execute_reply.started": "2025-09-11T06:42:17.610682Z",
          "shell.execute_reply": "2025-09-11T06:42:17.698519Z"
        },
        "id": "3w3aEZXJldsh"
      },
      "outputs": [],
      "execution_count": null
    },
    {
      "cell_type": "code",
      "source": [
        "train_size = int(0.8 * X.shape[0])\n",
        "X_train, X_test = X[:train_size], X[train_size:]\n",
        "y_train, y_test = y[:train_size], y[train_size:]"
      ],
      "metadata": {
        "trusted": true,
        "execution": {
          "iopub.status.busy": "2025-09-11T06:59:20.907277Z",
          "iopub.execute_input": "2025-09-11T06:59:20.907661Z",
          "iopub.status.idle": "2025-09-11T06:59:20.913822Z",
          "shell.execute_reply.started": "2025-09-11T06:59:20.907637Z",
          "shell.execute_reply": "2025-09-11T06:59:20.912538Z"
        },
        "id": "qCrvGtfvldsi"
      },
      "outputs": [],
      "execution_count": null
    },
    {
      "cell_type": "code",
      "source": [
        "#model\n",
        "model = SimpleRNNModel(input_dim = 8, hidden_dim = 32, output_dim = 2)\n",
        "criterion = nn.CrossEntropyLoss()\n",
        "optimizer = torch.optim.Adam(model.parameters(), lr=0.001)"
      ],
      "metadata": {
        "trusted": true,
        "execution": {
          "iopub.status.busy": "2025-09-11T06:43:56.772672Z",
          "iopub.execute_input": "2025-09-11T06:43:56.773472Z",
          "iopub.status.idle": "2025-09-11T06:44:00.241128Z",
          "shell.execute_reply.started": "2025-09-11T06:43:56.773442Z",
          "shell.execute_reply": "2025-09-11T06:44:00.240105Z"
        },
        "id": "K1P769CZldsi"
      },
      "outputs": [],
      "execution_count": null
    },
    {
      "cell_type": "code",
      "source": [
        "epoch_losses = []\n",
        "for epoch in range(10):\n",
        "    output = model(X_train)\n",
        "    loss = criterion(output, y_train)\n",
        "    optimizer.zero_grad()\n",
        "    loss.backward()\n",
        "    optimizer.step()\n",
        "    epoch_losses.append(loss.item())\n",
        "    print(f'Epoch {epoch} loss: {loss.item()}')"
      ],
      "metadata": {
        "trusted": true,
        "execution": {
          "iopub.status.busy": "2025-09-11T06:59:41.174063Z",
          "iopub.execute_input": "2025-09-11T06:59:41.174376Z",
          "iopub.status.idle": "2025-09-11T06:59:41.228523Z",
          "shell.execute_reply.started": "2025-09-11T06:59:41.174356Z",
          "shell.execute_reply": "2025-09-11T06:59:41.226969Z"
        },
        "id": "ryo5140xldsi",
        "outputId": "547ef718-99b5-4348-cca3-03a6ea8d1b4e"
      },
      "outputs": [
        {
          "name": "stdout",
          "text": "Epoch 0 loss: 0.6411421298980713\nEpoch 1 loss: 0.6381833553314209\nEpoch 2 loss: 0.6349667310714722\nEpoch 3 loss: 0.6315118074417114\nEpoch 4 loss: 0.6278363466262817\nEpoch 5 loss: 0.6239575147628784\nEpoch 6 loss: 0.6198914647102356\nEpoch 7 loss: 0.615653395652771\nEpoch 8 loss: 0.6112562417984009\nEpoch 9 loss: 0.6067110300064087\n",
          "output_type": "stream"
        }
      ],
      "execution_count": null
    },
    {
      "cell_type": "code",
      "source": [
        "plt.figure(figsize=(10, 6))\n",
        "plt.plot(range(1, 11), epoch_losses, marker='o')\n",
        "plt.xlabel('Epoch')\n",
        "plt.ylabel('Loss')\n",
        "plt.title('Training Loss')\n",
        "plt.grid(True)\n",
        "plt.show()"
      ],
      "metadata": {
        "trusted": true,
        "execution": {
          "iopub.status.busy": "2025-09-11T06:59:45.287786Z",
          "iopub.execute_input": "2025-09-11T06:59:45.288112Z",
          "iopub.status.idle": "2025-09-11T06:59:45.527312Z",
          "shell.execute_reply.started": "2025-09-11T06:59:45.288089Z",
          "shell.execute_reply": "2025-09-11T06:59:45.526334Z"
        },
        "id": "rQqIQVa5ldsj",
        "outputId": "dce49c61-07d3-4c23-cb08-3bd580d2c54b"
      },
      "outputs": [
        {
          "output_type": "display_data",
          "data": {
            "text/plain": "<Figure size 1000x600 with 1 Axes>",
            "image/png": "[encoded data removed]"
          },
          "metadata": {}
        }
      ],
      "execution_count": null
    },
    {
      "cell_type": "code",
      "source": [
        "model.eval()"
      ],
      "metadata": {
        "trusted": true,
        "execution": {
          "iopub.status.busy": "2025-09-11T06:59:49.641147Z",
          "iopub.execute_input": "2025-09-11T06:59:49.641601Z",
          "iopub.status.idle": "2025-09-11T06:59:49.648522Z",
          "shell.execute_reply.started": "2025-09-11T06:59:49.641573Z",
          "shell.execute_reply": "2025-09-11T06:59:49.647491Z"
        },
        "id": "ySR1Tqimldsj",
        "outputId": "f419c88c-1e46-4d06-8f1b-5e33dfa66ed0"
      },
      "outputs": [
        {
          "execution_count": 32,
          "output_type": "execute_result",
          "data": {
            "text/plain": "SimpleRNNModel(\n  (rnn): RNN(8, 32, batch_first=True)\n  (fc): Linear(in_features=32, out_features=2, bias=True)\n)"
          },
          "metadata": {}
        }
      ],
      "execution_count": null
    },
    {
      "cell_type": "code",
      "source": [
        "with torch.no_grad():\n",
        "    outputs = model(X_test)\n",
        "    _, predicted = torch.max(outputs.data, 1)"
      ],
      "metadata": {
        "trusted": true,
        "execution": {
          "iopub.status.busy": "2025-09-11T07:00:16.213389Z",
          "iopub.execute_input": "2025-09-11T07:00:16.213735Z",
          "iopub.status.idle": "2025-09-11T07:00:16.223971Z",
          "shell.execute_reply.started": "2025-09-11T07:00:16.21371Z",
          "shell.execute_reply": "2025-09-11T07:00:16.222768Z"
        },
        "id": "qt6xyWR-ldsk"
      },
      "outputs": [],
      "execution_count": null
    },
    {
      "cell_type": "code",
      "source": [
        "from sklearn.metrics import accuracy_score, precision_score, recall_score, f1_score\n",
        "\n",
        "accuracy = accuracy_score(y_test, predicted)\n",
        "precision = precision_score(y_test, predicted, average='weighted')\n",
        "recall = recall_score(y_test, predicted, average='weighted')\n",
        "f1 = f1_score(y_test, predicted, average='weighted')\n"
      ],
      "metadata": {
        "trusted": true,
        "execution": {
          "iopub.status.busy": "2025-09-11T07:00:26.201975Z",
          "iopub.execute_input": "2025-09-11T07:00:26.202344Z",
          "iopub.status.idle": "2025-09-11T07:00:26.217854Z",
          "shell.execute_reply.started": "2025-09-11T07:00:26.20232Z",
          "shell.execute_reply": "2025-09-11T07:00:26.216603Z"
        },
        "id": "W7R1duP-ldsk"
      },
      "outputs": [],
      "execution_count": null
    },
    {
      "cell_type": "code",
      "source": [
        "print(f'Accuracy: {accuracy:.4f} \\n Precision: {precision:.4f} \\n Recall: {recall:.4f} \\n F1: {f1:.4f}')"
      ],
      "metadata": {
        "trusted": true,
        "execution": {
          "iopub.status.busy": "2025-09-11T07:02:18.99099Z",
          "iopub.execute_input": "2025-09-11T07:02:18.991374Z",
          "iopub.status.idle": "2025-09-11T07:02:18.998345Z",
          "shell.execute_reply.started": "2025-09-11T07:02:18.99135Z",
          "shell.execute_reply": "2025-09-11T07:02:18.996931Z"
        },
        "id": "YB_MHRKLldsk",
        "outputId": "20a00397-72ba-44fc-a97a-233de91fe9f2"
      },
      "outputs": [
        {
          "name": "stdout",
          "text": "Accuracy: 0.8000 \n Precision: 0.7937 \n Recall: 0.8000 \n F1: 0.7867\n",
          "output_type": "stream"
        }
      ],
      "execution_count": null
    },
    {
      "cell_type": "code",
      "source": [],
      "metadata": {
        "trusted": true,
        "id": "RH1L34_aldsk"
      },
      "outputs": [],
      "execution_count": null
    }
  ]
}